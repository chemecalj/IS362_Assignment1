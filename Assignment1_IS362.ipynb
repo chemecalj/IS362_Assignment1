{
 "cells": [
  {
   "cell_type": "code",
   "execution_count": null,
   "metadata": {
    "collapsed": true
   },
   "outputs": [],
   "source": [
    "SELECT COUNT(*) FROM planes\n",
    "WHERE speed IS NOT NULL;\n",
    "\n",
    "SELECT MIN(speed) FROM planes;\n",
    "\n",
    "SELECT MAX(speed) FROM planes;\n",
    "\n",
    "SELECT SUM(distance) from flights\n",
    "WHERE year = '2013' AND month = '1';\n",
    "\n",
    "SELECT SUM(distance) from flights\n",
    "WHERE year = '2013' AND month = '1' AND tailnum IS NULL;\n",
    "\n",
    "SELECT SUM(distance), manufacturer from flights \n",
    "INNER JOIN planes \n",
    "ON flights.tailnum = planes.tailnum\n",
    "WHERE flights.year = '2013' and month = '7' and day = '5' \n",
    "GROUP BY manufacturer;\n",
    "\n",
    "SELECT SUM(distance), manufacturer from flights \n",
    "LEFT OUTER JOIN planes \n",
    "ON flights.tailnum = planes.tailnum\n",
    "WHERE flights.year = '2013' and month = '7' and day = '5' \n",
    "GROUP BY manufacturer;\n",
    "\n",
    "SELECT SUM(distance), month from flights\n",
    "WHERE year = '2013'\n",
    "GROUP BY month ASC;"
   ]
  }
 ],
 "metadata": {
  "kernelspec": {
   "display_name": "Python 2",
   "language": "python",
   "name": "python2"
  },
  "language_info": {
   "codemirror_mode": {
    "name": "ipython",
    "version": 2
   },
   "file_extension": ".py",
   "mimetype": "text/x-python",
   "name": "python",
   "nbconvert_exporter": "python",
   "pygments_lexer": "ipython2",
   "version": "2.7.13"
  }
 },
 "nbformat": 4,
 "nbformat_minor": 2
}
